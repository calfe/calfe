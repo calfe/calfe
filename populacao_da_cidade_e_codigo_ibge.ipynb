{
  "nbformat": 4,
  "nbformat_minor": 0,
  "metadata": {
    "colab": {
      "provenance": [],
      "authorship_tag": "ABX9TyNXHo5c5rePIDpKBMx1s2ot",
      "include_colab_link": true
    },
    "kernelspec": {
      "name": "python3",
      "display_name": "Python 3"
    },
    "language_info": {
      "name": "python"
    }
  },
  "cells": [
    {
      "cell_type": "markdown",
      "metadata": {
        "id": "view-in-github",
        "colab_type": "text"
      },
      "source": [
        "<a href=\"https://colab.research.google.com/github/calfe/calfe/blob/main/populacao_da_cidade_e_codigo_ibge.ipynb\" target=\"_parent\"><img src=\"https://colab.research.google.com/assets/colab-badge.svg\" alt=\"Open In Colab\"/></a>"
      ]
    },
    {
      "cell_type": "code",
      "source": [
        "Primeira versão de web scraping para conseguir dados de população, estado, ranking da população e código ibge a partir do nome do município. Adaptação a partir de \n",
        "Sateesh110/Rep_Medium"
      ],
      "metadata": {
        "id": "J23E-Ql9LSmj"
      },
      "execution_count": null,
      "outputs": []
    },
    {
      "cell_type": "code",
      "execution_count": 4,
      "metadata": {
        "colab": {
          "base_uri": "https://localhost:8080/"
        },
        "id": "D4c8WF7XLOnn",
        "outputId": "ced257d1-b311-4790-deab-d013148c9e92"
      },
      "outputs": [
        {
          "output_type": "stream",
          "name": "stdout",
          "text": [
            "  Posição Código IBGE Município Unidade federativa  População\n",
            "1      3º     5300108  Brasília   Distrito Federal  3 094 325\n"
          ]
        }
      ],
      "source": [
        "#definir a cidade, com espaços, diferenciação de maiúscula e minúscula, e acentos.\n",
        "cidade = 'Brasília'\n",
        "\n",
        "# p requisições http\n",
        "import requests  \n",
        "\n",
        "# para buscas em html \n",
        "from bs4 import BeautifulSoup \n",
        "\n",
        "# análise de tabelas\n",
        "import pandas as pd\n",
        "\n",
        "# escrever p csv\n",
        "import csv\n",
        "\n",
        "# Tempo\n",
        "import time\n",
        "\n",
        "#Visuais\n",
        "import matplotlib.pyplot as plt\n",
        "\n",
        "# url da página de onde será tirado o dado\n",
        "url1 = \"https://pt.wikipedia.org/wiki/Lista_de_munic%C3%ADpios_do_Brasil_por_popula%C3%A7%C3%A3o\"\n",
        "\n",
        "#teste de requisição do site desejado. Output deve ser 200\n",
        "s = requests.Session()\n",
        "response = s.get(url1, timeout=10)\n",
        "\n",
        "#response2 = s.get(url2, timeout=5)\n",
        "response\n",
        "\n",
        "# análise da resposta do conteúdo html\n",
        "soup = BeautifulSoup(response.content, 'html.parser')\n",
        "\n",
        "# p ver o conteúdo em html\n",
        "pretty_soup = soup.prettify()\n",
        "\n",
        "# achar todas as tabelas dentro da página\n",
        "all_tables=soup.find_all('table')\n",
        "\n",
        "# achar a tabela certa para analisar. A classe é essa mesmo, \n",
        "#verificada depois de análise do código fonte do site. \n",
        "#Outras fontes devem ser analisadas caso a caso\n",
        "right_table=soup.find('table', {\"class\":'wikitable sortable'})\n",
        "\n",
        "# número de colunas na tabela\n",
        "for row in right_table.findAll(\"tr\"):\n",
        "    cells = row.findAll('td')\n",
        "\n",
        "# numero de linhas\n",
        "rows = right_table.findAll(\"tr\")\n",
        "\n",
        "#categorias da tabela original\n",
        "header = [th.text.rstrip() for th in rows[0].find_all('th')][0:]\n",
        "\n",
        "#definição da tabela agora dentro do python\n",
        "dado_um = []\n",
        "for row in rows[2:]:\n",
        "            data = [d.text.rstrip() for d in row.find_all('td')]\n",
        "            dado_um.append(data)\n",
        "dado_um = pd.DataFrame(dado_um, columns=header)\n",
        "df = dado_um.copy()\n",
        "\n",
        "dados_mun = df[(df.Município == cidade)]\n",
        "print(dados_mun)"
      ]
    }
  ]
}